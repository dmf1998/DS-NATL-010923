{
 "cells": [
  {
   "cell_type": "markdown",
   "metadata": {
    "nbgrader": {
     "grade": false,
     "grade_id": "cell-406d340d7286364c",
     "locked": true,
     "schema_version": 3,
     "solution": false,
     "task": false
    }
   },
   "source": [
    "# Phase 2 Code Challenge\n",
    "\n",
    "This code challenge is designed to test your understanding of the Phase 2 material. It covers:\n",
    "\n",
    "- Normal Distribution\n",
    "- Statistical Tests\n",
    "- Bayesian Statistics\n",
    "- Linear Regression\n",
    "\n",
    "_Read the instructions carefully_. You will be asked both to write code and to answer short answer questions.\n",
    "\n",
    "## Code Tests\n",
    "\n",
    "We have provided some code tests for you to run to check that your work meets the item specifications. Passing these tests does not necessarily mean that you have gotten the item correct - there are additional hidden tests. However, if any of the tests do not pass, this tells you that your code is incorrect and needs changes to meet the specification. To determine what the issue is, read the comments in the code test cells, the error message you receive, and the item instructions.\n",
    "\n",
    "## Short Answer Questions \n",
    "\n",
    "For the short answer questions...\n",
    "\n",
    "* _Use your own words_. It is OK to refer to outside resources when crafting your response, but _do not copy text from another source_.\n",
    "\n",
    "* _Communicate clearly_. We are not grading your writing skills, but you can only receive full credit if your teacher is able to fully understand your response. \n",
    "\n",
    "* _Be concise_. You should be able to answer most short answer questions in a sentence or two. Writing unnecessarily long answers increases the risk of you being unclear or saying something incorrect."
   ]
  },
  {
   "cell_type": "code",
   "execution_count": 1,
   "metadata": {
    "nbgrader": {
     "grade": false,
     "grade_id": "cell-d04c1470087d31aa",
     "locked": true,
     "schema_version": 3,
     "solution": false,
     "task": false
    }
   },
   "outputs": [],
   "source": [
    "# Run this cell without changes to import the necessary libraries\n",
    "\n",
    "import itertools\n",
    "import numpy as np\n",
    "import pandas as pd \n",
    "from numbers import Number\n",
    "from scipy import stats\n",
    "import matplotlib.pyplot as plt\n",
    "import seaborn as sns\n",
    "import statsmodels.api as sm\n",
    "import warnings\n",
    "warnings.filterwarnings('ignore')\n",
    "\n",
    "import pickle"
   ]
  },
  {
   "cell_type": "markdown",
   "metadata": {
    "nbgrader": {
     "grade": false,
     "grade_id": "cell-312fddb195007e20",
     "locked": true,
     "schema_version": 3,
     "solution": false,
     "task": false
    }
   },
   "source": [
    "---\n",
    "## Part 1: Normal Distribution [Suggested time: 20 minutes]\n",
    "---\n",
    "In this part, you will analyze check totals at a TexMex restaurant. We know that the population distribution of check totals for the TexMex restaurant is normally distributed with a mean of \\\\$20 and a standard deviation of \\\\$3. "
   ]
  },
  {
   "cell_type": "markdown",
   "metadata": {
    "nbgrader": {
     "grade": false,
     "grade_id": "cell-46b6b6254aeeff59",
     "locked": true,
     "schema_version": 3,
     "solution": false,
     "task": false
    }
   },
   "source": [
    "### 1.1) Create a numeric variable `z_score_26` containing the z-score for a \\\\$26 check. "
   ]
  },
  {
   "cell_type": "code",
   "execution_count": 2,
   "metadata": {
    "nbgrader": {
     "grade": false,
     "grade_id": "cell-ef9660b9613a17a4",
     "locked": true,
     "schema_version": 3,
     "solution": false,
     "task": false
    }
   },
   "outputs": [],
   "source": [
    "# CodeGrade step1.1\n",
    "# Replace None with appropriate code\n",
    "\n",
    "mean_texmex = 20\n",
    "std_texmex = 3\n",
    "check_texmex = 26\n",
    "\n",
    "z_score_26 = (check_texmex - mean_texmex) / std_texmex"
   ]
  },
  {
   "cell_type": "code",
   "execution_count": 3,
   "metadata": {},
   "outputs": [],
   "source": [
    "# This test confirms that you have created a numeric variable named z_score_26\n",
    "\n",
    "assert isinstance(z_score_26, Number)"
   ]
  },
  {
   "cell_type": "markdown",
   "metadata": {
    "nbgrader": {
     "grade": false,
     "grade_id": "cell-42d5460165295bb7",
     "locked": true,
     "schema_version": 3,
     "solution": false,
     "task": false
    }
   },
   "source": [
    "### 1.2) Create a numeric variable `p_under_26` containing the approximate proportion of all checks that are less than \\\\$26.\n",
    "\n",
    "Hint: Use the answer from the previous question along with the empirical rule, a Python function, or this [z-table](https://www.math.arizona.edu/~rsims/ma464/standardnormaltable.pdf)."
   ]
  },
  {
   "cell_type": "code",
   "execution_count": 4,
   "metadata": {
    "nbgrader": {
     "grade": false,
     "grade_id": "cell-999dca2e2a1e09ba",
     "locked": true,
     "schema_version": 3,
     "solution": false,
     "task": false
    }
   },
   "outputs": [
    {
     "data": {
      "text/plain": [
       "0.9772498680518208"
      ]
     },
     "execution_count": 4,
     "metadata": {},
     "output_type": "execute_result"
    }
   ],
   "source": [
    "# CodeGrade step1.2\n",
    "# Replace None with appropriate code\n",
    "\n",
    "p_under_26 = stats.norm.cdf(z_score_26) # This should be approaching 100% because it is 2 sigma above the mean\n",
    "p_under_26"
   ]
  },
  {
   "cell_type": "code",
   "execution_count": 5,
   "metadata": {},
   "outputs": [],
   "source": [
    "# This test confirms that you have created a numeric variable named p_under_26\n",
    "\n",
    "assert isinstance(p_under_26, Number)\n",
    "\n",
    "# These tests confirm that p_under_26 is a value between 0 and 1\n",
    "\n",
    "assert p_under_26 >= 0\n",
    "assert p_under_26 <= 1"
   ]
  },
  {
   "cell_type": "markdown",
   "metadata": {
    "nbgrader": {
     "grade": false,
     "grade_id": "cell-b20994e953b823df",
     "locked": true,
     "schema_version": 3,
     "solution": false,
     "task": false
    }
   },
   "source": [
    "### 1.3) Create numeric variables `conf_low` and `conf_high` containing the lower and upper bounds (respectively) of a 95% confidence interval for the mean of one waiter's check amounts using the information below. \n",
    "\n",
    "One week, a waiter gets 100 checks with a mean of \\\\$19 and a standard deviation of \\\\$3."
   ]
  },
  {
   "cell_type": "code",
   "execution_count": 6,
   "metadata": {
    "nbgrader": {
     "grade": false,
     "grade_id": "cell-a4925898f2c5bfb5",
     "locked": true,
     "schema_version": 3,
     "solution": false,
     "task": false
    }
   },
   "outputs": [],
   "source": [
    "# CodeGrade step1.3\n",
    "# Replace None with appropriate code\n",
    "\n",
    "n = 100\n",
    "mean = 19\n",
    "std = 3\n",
    "\n",
    "sterr = std / (n ** 0.5)\n",
    "c_int = stats.t.interval(alpha=.95,  # Confidence level\n",
    "                 loc=mean,  # Mean\n",
    "                 # Still need to calculate that standard error by hand\n",
    "                 scale=sterr,\n",
    "                 df=n-1)\n",
    "conf_low = c_int[0]\n",
    "conf_high = c_int[1]"
   ]
  },
  {
   "cell_type": "code",
   "execution_count": 7,
   "metadata": {},
   "outputs": [
    {
     "name": "stdout",
     "output_type": "stream",
     "text": [
      "The lower bound of the 95% confidence interval is 18.404734914547394\n",
      "The upper bound of the 95% confidence interval is 19.595265085452606\n"
     ]
    }
   ],
   "source": [
    "# These tests confirm that you have created numeric variables named conf_low and conf_high\n",
    "\n",
    "assert isinstance(conf_low, Number)\n",
    "assert isinstance(conf_high, Number)\n",
    "\n",
    "# This test confirms that conf_low is below conf_high\n",
    "\n",
    "assert conf_low < conf_high\n",
    "\n",
    "# These statements print your answers for reference to help answer the next question\n",
    "\n",
    "print('The lower bound of the 95% confidence interval is {}'.format(conf_low))\n",
    "print('The upper bound of the 95% confidence interval is {}'.format(conf_high))"
   ]
  },
  {
   "cell_type": "markdown",
   "metadata": {
    "nbgrader": {
     "grade": false,
     "grade_id": "cell-fb9ed0f70c9bd8de",
     "locked": true,
     "schema_version": 3,
     "solution": false,
     "task": false
    }
   },
   "source": [
    "### 1.4) Short Answer: Interpret the 95% confidence interval you just calculated in Question 1.3."
   ]
  },
  {
   "cell_type": "markdown",
   "metadata": {},
   "source": [
    "# Your answer here\n",
    "\n",
    "A 95% confidence interval means that the true population mean has a 95% chance of being within this interval.\n",
    "=> The population mean of the checks is between \\\\$18.4 and \\\\$19.6. "
   ]
  },
  {
   "cell_type": "markdown",
   "metadata": {
    "nbgrader": {
     "grade": false,
     "grade_id": "cell-782ab283e22ce5ae",
     "locked": true,
     "schema_version": 3,
     "solution": false,
     "task": false
    }
   },
   "source": [
    "---\n",
    "## Part 2: Statistical Testing [Suggested time: 20 minutes]\n",
    "---\n",
    "The TexMex restaurant recently introduced queso to its menu.\n",
    "\n",
    "We have a random sample containing 2000 check totals, all from different customers: 1000 check totals for orders without queso (\"no queso\") and 1000 check totals for orders with queso (\"queso\").\n",
    "\n",
    "In the cell below, we load the sample data for you into the arrays `no_queso` and `queso` for the \"no queso\" and \"queso\" order check totals, respectively."
   ]
  },
  {
   "cell_type": "code",
   "execution_count": 8,
   "metadata": {
    "nbgrader": {
     "grade": false,
     "grade_id": "cell-fdba1826c45c244d",
     "locked": true,
     "schema_version": 3,
     "solution": false,
     "task": false
    },
    "scrolled": true
   },
   "outputs": [],
   "source": [
    "# Run this cell without changes\n",
    "\n",
    "# Load the sample data \n",
    "no_queso = pickle.load(open('./no_queso.pkl', 'rb'))\n",
    "queso = pickle.load(open('./queso.pkl', 'rb'))"
   ]
  },
  {
   "cell_type": "markdown",
   "metadata": {
    "nbgrader": {
     "grade": false,
     "grade_id": "cell-05f7dc82e438a77f",
     "locked": true,
     "schema_version": 3,
     "solution": false,
     "task": false
    }
   },
   "source": [
    "### 2.1) Short Answer: State null and alternative hypotheses to use for testing whether customers who order queso spend different amounts of money from customers who do not order queso."
   ]
  },
  {
   "cell_type": "markdown",
   "metadata": {},
   "source": [
    "# Your answer here\n",
    "\n",
    "### The null hypothesis, H_0:\n",
    "Customers who order queso spend the same amount of money as customers who do not order queso\n",
    "\n",
    "### The alternative hypothesis, H_A: \n",
    "Customers who order queso spend a different amount of money than customers who do not order queso"
   ]
  },
  {
   "cell_type": "markdown",
   "metadata": {
    "nbgrader": {
     "grade": false,
     "grade_id": "cell-483bc2fff57780fa",
     "locked": true,
     "schema_version": 3,
     "solution": false,
     "task": false
    }
   },
   "source": [
    "### 2.2) Short Answer: What would it mean to make a Type I error for this specific hypothesis test?\n",
    "\n",
    "Your answer should be _specific to this context,_  not a general statement of what Type I error is."
   ]
  },
  {
   "cell_type": "markdown",
   "metadata": {},
   "source": [
    "# Your answer here\n",
    "\n",
    "The type one error would be a false positive, where it is determined that customers who order queso spend a different amount of money to those who don't order queso, when in fact, customers who order queso spend the same amount of money as those who don't."
   ]
  },
  {
   "cell_type": "markdown",
   "metadata": {
    "nbgrader": {
     "grade": false,
     "grade_id": "cell-b044519654b42877",
     "locked": true,
     "schema_version": 3,
     "solution": false,
     "task": false
    }
   },
   "source": [
    "### 2.3) Create a numeric variable `p_value` containing the p-value associated with a statistical test of your hypotheses. \n",
    "\n",
    "You must identify and implement the correct statistical test for this scenario. You can assume the two samples have equal variances.\n",
    "\n",
    "Hint: Use `scipy.stats` to calculate the answer - it has already been imported as `stats`. Relevant documentation can be found [here](https://docs.scipy.org/doc/scipy/reference/stats.html#statistical-tests)."
   ]
  },
  {
   "cell_type": "code",
   "execution_count": 9,
   "metadata": {
    "nbgrader": {
     "grade": false,
     "grade_id": "cell-db4a0aa68c4107d0",
     "locked": true,
     "schema_version": 3,
     "solution": false,
     "task": false
    }
   },
   "outputs": [
    {
     "data": {
      "text/plain": [
       "1.29670967092511e-307"
      ]
     },
     "execution_count": 9,
     "metadata": {},
     "output_type": "execute_result"
    }
   ],
   "source": [
    "# CodeGrade step2.3\n",
    "# Replace None with appropriate code\n",
    "\n",
    "# We have equal variances and the H_A is on either side of the null. Use --> two-tailed, 2 independent sample t-test\n",
    "\n",
    "p_value = stats.ttest_ind(no_queso, queso, equal_var=True).pvalue\n",
    "p_value"
   ]
  },
  {
   "cell_type": "code",
   "execution_count": 10,
   "metadata": {},
   "outputs": [],
   "source": [
    "# This test confirms that you have created a numeric variable named p_value\n",
    "\n",
    "assert isinstance(p_value, Number)"
   ]
  },
  {
   "cell_type": "markdown",
   "metadata": {
    "nbgrader": {
     "grade": false,
     "grade_id": "cell-98db6e15784f2ead",
     "locked": true,
     "schema_version": 3,
     "solution": false,
     "task": false
    }
   },
   "source": [
    "### 2.4) Short Answer: Can you reject the null hypothesis using a significance level of $\\alpha$ = 0.05? Explain why or why not."
   ]
  },
  {
   "cell_type": "markdown",
   "metadata": {},
   "source": [
    "# Your answer here\n",
    "\n",
    "The p-value is significantly smaller than alpha, so we reject the null hypothesis. This means there is a statistically significant difference between the mean checks for no queso and queso."
   ]
  },
  {
   "cell_type": "markdown",
   "metadata": {
    "nbgrader": {
     "grade": false,
     "grade_id": "cell-b6008343ed116f03",
     "locked": true,
     "schema_version": 3,
     "solution": false,
     "task": false
    }
   },
   "source": [
    "---\n",
    "## Part 3: Bayesian Statistics [Suggested time: 15 minutes]\n",
    "---\n",
    "A medical test is designed to diagnose a certain disease. The test has a false positive rate of 10%, meaning that 10% of people without the disease will get a positive test result. The test has a false negative rate of 2%, meaning that 2% of people with the disease will get a negative result. Only 1% of the population has this disease."
   ]
  },
  {
   "cell_type": "markdown",
   "metadata": {
    "nbgrader": {
     "grade": false,
     "grade_id": "cell-1e51fa364dcf5516",
     "locked": true,
     "schema_version": 3,
     "solution": false,
     "task": false
    }
   },
   "source": [
    "### 3.1) Create a numeric variable `p_pos_test` containing the probability of a person receiving a positive test result.\n",
    "\n",
    "Assume that the person being tested is randomly selected from the broader population."
   ]
  },
  {
   "cell_type": "code",
   "execution_count": 11,
   "metadata": {
    "nbgrader": {
     "grade": false,
     "grade_id": "cell-6c9a81af92dda9d0",
     "locked": true,
     "schema_version": 3,
     "solution": false,
     "task": false
    }
   },
   "outputs": [
    {
     "data": {
      "text/plain": [
       "0.10880000000000001"
      ]
     },
     "execution_count": 11,
     "metadata": {},
     "output_type": "execute_result"
    }
   ],
   "source": [
    "# CodeGrade step3.1\n",
    "# Replace None with appropriate code\n",
    "    \n",
    "false_pos_rate = 0.1\n",
    "false_neg_rate = 0.02\n",
    "population_rate = 0.01\n",
    "\n",
    "# = False positive * population of people without disease + True positive + population of people with the disease\n",
    "# Where pop of people without the disease = 1 - population_rate, and true positive = 1 - false negative rate\n",
    "\n",
    "true_pos_rate = 1 - false_neg_rate\n",
    "true_neg_rate = 1 - false_pos_rate\n",
    "no_disease_pop_rate = 1 - population_rate\n",
    "\n",
    "p_pos_test = false_pos_rate * no_disease_pop_rate + true_pos_rate * population_rate\n",
    "p_pos_test"
   ]
  },
  {
   "cell_type": "code",
   "execution_count": 12,
   "metadata": {},
   "outputs": [
    {
     "data": {
      "text/plain": [
       "0.9"
      ]
     },
     "execution_count": 12,
     "metadata": {},
     "output_type": "execute_result"
    }
   ],
   "source": [
    "true_neg_rate"
   ]
  },
  {
   "cell_type": "code",
   "execution_count": 13,
   "metadata": {},
   "outputs": [],
   "source": [
    "# This test confirms that you have created a numeric variable named p_pos_test\n",
    "\n",
    "assert isinstance(p_pos_test, Number)\n",
    "\n",
    "# These tests confirm that p_pos_test is a value between 0 and 1\n",
    "\n",
    "assert p_pos_test >= 0\n",
    "assert p_pos_test <= 1"
   ]
  },
  {
   "cell_type": "markdown",
   "metadata": {
    "nbgrader": {
     "grade": false,
     "grade_id": "cell-57ed51c0909605eb",
     "locked": true,
     "schema_version": 3,
     "solution": false,
     "task": false
    }
   },
   "source": [
    "### 3.2) Create a numeric variable `p_disease_given_pos` containing the probability of a person actually having the disease if they receive a positive test result.\n",
    "\n",
    "Assume that the person being tested is randomly selected from the broader population.\n",
    "\n",
    "Hint: Use your answer to the previous question to help answer this one."
   ]
  },
  {
   "cell_type": "code",
   "execution_count": 14,
   "metadata": {
    "nbgrader": {
     "grade": false,
     "grade_id": "cell-434bfaff534cdd87",
     "locked": true,
     "schema_version": 3,
     "solution": false,
     "task": false
    }
   },
   "outputs": [
    {
     "data": {
      "text/plain": [
       "0.09007352941176469"
      ]
     },
     "execution_count": 14,
     "metadata": {},
     "output_type": "execute_result"
    }
   ],
   "source": [
    "# CodeGrade step3.2\n",
    "# Replace None with appropriate code\n",
    "    \n",
    "false_pos_rate = 0.1\n",
    "false_neg_rate = 0.02\n",
    "population_rate = 0.01\n",
    "\n",
    "# P(disease | pos) * P(pos) = P(pos | disease) * P(disease)\n",
    "# => P(disease | pos) = P(pos | disease) * P(disease) / P(pos)\n",
    "p_disease_given_pos = true_pos_rate * population_rate / p_pos_test\n",
    "p_disease_given_pos"
   ]
  },
  {
   "cell_type": "code",
   "execution_count": 15,
   "metadata": {},
   "outputs": [],
   "source": [
    "# This test confirms that you have created a numeric variable named p_disease_given_pos\n",
    "\n",
    "assert isinstance(p_disease_given_pos, Number)\n",
    "\n",
    "# These tests confirm that p_disease_given_pos is a value between 0 and 1\n",
    "\n",
    "assert p_disease_given_pos >= 0\n",
    "assert p_disease_given_pos <= 1"
   ]
  },
  {
   "cell_type": "markdown",
   "metadata": {
    "nbgrader": {
     "grade": false,
     "grade_id": "cell-1a05b3141ee72061",
     "locked": true,
     "schema_version": 3,
     "solution": false,
     "task": false
    }
   },
   "source": [
    "---\n",
    "\n",
    "## Part 4: Linear Regression [Suggested Time: 20 min]\n",
    "---\n",
    "\n",
    "In this section, you'll run regression models with [automobile price](https://archive.ics.uci.edu/ml/datasets/Automobile) data.\n",
    "\n",
    "We will use these columns of the dataset:\n",
    "\n",
    "- `body-style`: categorical, hardtop, wagon, sedan, hatchback, or convertible\n",
    "- `length`: continuous\n",
    "- `width`: continuous\n",
    "- `height`: continuous\n",
    "- `engine-size`: continuous\n",
    "- `price`: continuous\n",
    "\n",
    "We will use `price` as the target and all other columns as features. The units of `price` are US dollars in 1985."
   ]
  },
  {
   "cell_type": "code",
   "execution_count": 16,
   "metadata": {
    "nbgrader": {
     "grade": false,
     "grade_id": "cell-8b60dbd2aaacc991",
     "locked": true,
     "schema_version": 3,
     "solution": false,
     "task": false
    }
   },
   "outputs": [
    {
     "data": {
      "text/html": [
       "<div>\n",
       "<style scoped>\n",
       "    .dataframe tbody tr th:only-of-type {\n",
       "        vertical-align: middle;\n",
       "    }\n",
       "\n",
       "    .dataframe tbody tr th {\n",
       "        vertical-align: top;\n",
       "    }\n",
       "\n",
       "    .dataframe thead th {\n",
       "        text-align: right;\n",
       "    }\n",
       "</style>\n",
       "<table border=\"1\" class=\"dataframe\">\n",
       "  <thead>\n",
       "    <tr style=\"text-align: right;\">\n",
       "      <th></th>\n",
       "      <th>body-style</th>\n",
       "      <th>length</th>\n",
       "      <th>width</th>\n",
       "      <th>height</th>\n",
       "      <th>engine-size</th>\n",
       "      <th>horsepower</th>\n",
       "      <th>city-mpg</th>\n",
       "      <th>price</th>\n",
       "    </tr>\n",
       "  </thead>\n",
       "  <tbody>\n",
       "    <tr>\n",
       "      <th>0</th>\n",
       "      <td>convertible</td>\n",
       "      <td>168.8</td>\n",
       "      <td>64.1</td>\n",
       "      <td>48.8</td>\n",
       "      <td>130</td>\n",
       "      <td>111</td>\n",
       "      <td>21</td>\n",
       "      <td>13495</td>\n",
       "    </tr>\n",
       "    <tr>\n",
       "      <th>1</th>\n",
       "      <td>convertible</td>\n",
       "      <td>168.8</td>\n",
       "      <td>64.1</td>\n",
       "      <td>48.8</td>\n",
       "      <td>130</td>\n",
       "      <td>111</td>\n",
       "      <td>21</td>\n",
       "      <td>16500</td>\n",
       "    </tr>\n",
       "    <tr>\n",
       "      <th>2</th>\n",
       "      <td>hatchback</td>\n",
       "      <td>171.2</td>\n",
       "      <td>65.5</td>\n",
       "      <td>52.4</td>\n",
       "      <td>152</td>\n",
       "      <td>154</td>\n",
       "      <td>19</td>\n",
       "      <td>16500</td>\n",
       "    </tr>\n",
       "    <tr>\n",
       "      <th>3</th>\n",
       "      <td>sedan</td>\n",
       "      <td>176.6</td>\n",
       "      <td>66.2</td>\n",
       "      <td>54.3</td>\n",
       "      <td>109</td>\n",
       "      <td>102</td>\n",
       "      <td>24</td>\n",
       "      <td>13950</td>\n",
       "    </tr>\n",
       "    <tr>\n",
       "      <th>4</th>\n",
       "      <td>sedan</td>\n",
       "      <td>176.6</td>\n",
       "      <td>66.4</td>\n",
       "      <td>54.3</td>\n",
       "      <td>136</td>\n",
       "      <td>115</td>\n",
       "      <td>18</td>\n",
       "      <td>17450</td>\n",
       "    </tr>\n",
       "    <tr>\n",
       "      <th>...</th>\n",
       "      <td>...</td>\n",
       "      <td>...</td>\n",
       "      <td>...</td>\n",
       "      <td>...</td>\n",
       "      <td>...</td>\n",
       "      <td>...</td>\n",
       "      <td>...</td>\n",
       "      <td>...</td>\n",
       "    </tr>\n",
       "    <tr>\n",
       "      <th>200</th>\n",
       "      <td>sedan</td>\n",
       "      <td>188.8</td>\n",
       "      <td>68.9</td>\n",
       "      <td>55.5</td>\n",
       "      <td>141</td>\n",
       "      <td>114</td>\n",
       "      <td>23</td>\n",
       "      <td>16845</td>\n",
       "    </tr>\n",
       "    <tr>\n",
       "      <th>201</th>\n",
       "      <td>sedan</td>\n",
       "      <td>188.8</td>\n",
       "      <td>68.8</td>\n",
       "      <td>55.5</td>\n",
       "      <td>141</td>\n",
       "      <td>160</td>\n",
       "      <td>19</td>\n",
       "      <td>19045</td>\n",
       "    </tr>\n",
       "    <tr>\n",
       "      <th>202</th>\n",
       "      <td>sedan</td>\n",
       "      <td>188.8</td>\n",
       "      <td>68.9</td>\n",
       "      <td>55.5</td>\n",
       "      <td>173</td>\n",
       "      <td>134</td>\n",
       "      <td>18</td>\n",
       "      <td>21485</td>\n",
       "    </tr>\n",
       "    <tr>\n",
       "      <th>203</th>\n",
       "      <td>sedan</td>\n",
       "      <td>188.8</td>\n",
       "      <td>68.9</td>\n",
       "      <td>55.5</td>\n",
       "      <td>145</td>\n",
       "      <td>106</td>\n",
       "      <td>26</td>\n",
       "      <td>22470</td>\n",
       "    </tr>\n",
       "    <tr>\n",
       "      <th>204</th>\n",
       "      <td>sedan</td>\n",
       "      <td>188.8</td>\n",
       "      <td>68.9</td>\n",
       "      <td>55.5</td>\n",
       "      <td>141</td>\n",
       "      <td>114</td>\n",
       "      <td>19</td>\n",
       "      <td>22625</td>\n",
       "    </tr>\n",
       "  </tbody>\n",
       "</table>\n",
       "<p>199 rows × 8 columns</p>\n",
       "</div>"
      ],
      "text/plain": [
       "      body-style  length  width  height  engine-size  horsepower  city-mpg  \\\n",
       "0    convertible   168.8   64.1    48.8          130         111        21   \n",
       "1    convertible   168.8   64.1    48.8          130         111        21   \n",
       "2      hatchback   171.2   65.5    52.4          152         154        19   \n",
       "3          sedan   176.6   66.2    54.3          109         102        24   \n",
       "4          sedan   176.6   66.4    54.3          136         115        18   \n",
       "..           ...     ...    ...     ...          ...         ...       ...   \n",
       "200        sedan   188.8   68.9    55.5          141         114        23   \n",
       "201        sedan   188.8   68.8    55.5          141         160        19   \n",
       "202        sedan   188.8   68.9    55.5          173         134        18   \n",
       "203        sedan   188.8   68.9    55.5          145         106        26   \n",
       "204        sedan   188.8   68.9    55.5          141         114        19   \n",
       "\n",
       "     price  \n",
       "0    13495  \n",
       "1    16500  \n",
       "2    16500  \n",
       "3    13950  \n",
       "4    17450  \n",
       "..     ...  \n",
       "200  16845  \n",
       "201  19045  \n",
       "202  21485  \n",
       "203  22470  \n",
       "204  22625  \n",
       "\n",
       "[199 rows x 8 columns]"
      ]
     },
     "execution_count": 16,
     "metadata": {},
     "output_type": "execute_result"
    }
   ],
   "source": [
    "# Run this cell without changes\n",
    "\n",
    "# Load data into pandas\n",
    "data = pd.read_csv(\"automobiles.csv\")\n",
    "\n",
    "# Data cleaning\n",
    "data = data[(data[\"horsepower\"] != \"?\") & (data[\"price\"] != \"?\")]\n",
    "data[\"horsepower\"] = data[\"horsepower\"].astype(int)\n",
    "data[\"price\"] = data[\"price\"].astype(int)\n",
    "\n",
    "# Select subset of columns\n",
    "data = data[[\"body-style\", \"length\", \"width\", \"height\", \"engine-size\", \"horsepower\", \"city-mpg\", \"price\"]]\n",
    "data"
   ]
  },
  {
   "cell_type": "markdown",
   "metadata": {
    "nbgrader": {
     "grade": false,
     "grade_id": "cell-39615b71a29578f4",
     "locked": true,
     "schema_version": 3,
     "solution": false,
     "task": false
    }
   },
   "source": [
    "### 4.1) Build a StatsModels `OLS` model `numeric_mod` that uses all numeric features to predict `price`\n",
    "\n",
    "In other words, this model should use all features in `data` except for `body-style` (because `body-style` is categorical)."
   ]
  },
  {
   "cell_type": "code",
   "execution_count": 17,
   "metadata": {
    "nbgrader": {
     "grade": false,
     "grade_id": "cell-c60eb178aa7ffccc",
     "locked": true,
     "schema_version": 3,
     "solution": false,
     "task": false
    }
   },
   "outputs": [],
   "source": [
    "# CodeGrade step4.1\n",
    "# Replace None with appropriate code\n",
    "    \n",
    "y = data['price'].copy()\n",
    "X = data.drop(['price', 'body-style'], axis=1)\n",
    "\n",
    "numeric_mod = sm.OLS(endog=y, exog=sm.add_constant(X))"
   ]
  },
  {
   "cell_type": "code",
   "execution_count": 18,
   "metadata": {},
   "outputs": [],
   "source": [
    "# This test confirms that you have created a variable named numeric_mod containing a StatsModels OLS model\n",
    "\n",
    "assert type(numeric_mod) == sm.OLS"
   ]
  },
  {
   "cell_type": "code",
   "execution_count": 19,
   "metadata": {},
   "outputs": [
    {
     "data": {
      "text/html": [
       "<div>\n",
       "<style scoped>\n",
       "    .dataframe tbody tr th:only-of-type {\n",
       "        vertical-align: middle;\n",
       "    }\n",
       "\n",
       "    .dataframe tbody tr th {\n",
       "        vertical-align: top;\n",
       "    }\n",
       "\n",
       "    .dataframe thead th {\n",
       "        text-align: right;\n",
       "    }\n",
       "</style>\n",
       "<table border=\"1\" class=\"dataframe\">\n",
       "  <thead>\n",
       "    <tr style=\"text-align: right;\">\n",
       "      <th></th>\n",
       "      <th>length</th>\n",
       "      <th>width</th>\n",
       "      <th>height</th>\n",
       "      <th>engine-size</th>\n",
       "      <th>horsepower</th>\n",
       "      <th>city-mpg</th>\n",
       "      <th>price</th>\n",
       "    </tr>\n",
       "  </thead>\n",
       "  <tbody>\n",
       "    <tr>\n",
       "      <th>length</th>\n",
       "      <td>1.000000</td>\n",
       "      <td>0.857225</td>\n",
       "      <td>0.494880</td>\n",
       "      <td>0.685260</td>\n",
       "      <td>0.580309</td>\n",
       "      <td>-0.664865</td>\n",
       "      <td>0.693965</td>\n",
       "    </tr>\n",
       "    <tr>\n",
       "      <th>width</th>\n",
       "      <td>0.857225</td>\n",
       "      <td>1.000000</td>\n",
       "      <td>0.309223</td>\n",
       "      <td>0.729466</td>\n",
       "      <td>0.615315</td>\n",
       "      <td>-0.633139</td>\n",
       "      <td>0.753871</td>\n",
       "    </tr>\n",
       "    <tr>\n",
       "      <th>height</th>\n",
       "      <td>0.494880</td>\n",
       "      <td>0.309223</td>\n",
       "      <td>1.000000</td>\n",
       "      <td>0.075569</td>\n",
       "      <td>-0.087407</td>\n",
       "      <td>-0.051387</td>\n",
       "      <td>0.134990</td>\n",
       "    </tr>\n",
       "    <tr>\n",
       "      <th>engine-size</th>\n",
       "      <td>0.685260</td>\n",
       "      <td>0.729466</td>\n",
       "      <td>0.075569</td>\n",
       "      <td>1.000000</td>\n",
       "      <td>0.822713</td>\n",
       "      <td>-0.650552</td>\n",
       "      <td>0.873887</td>\n",
       "    </tr>\n",
       "    <tr>\n",
       "      <th>horsepower</th>\n",
       "      <td>0.580309</td>\n",
       "      <td>0.615315</td>\n",
       "      <td>-0.087407</td>\n",
       "      <td>0.822713</td>\n",
       "      <td>1.000000</td>\n",
       "      <td>-0.822617</td>\n",
       "      <td>0.810533</td>\n",
       "    </tr>\n",
       "    <tr>\n",
       "      <th>city-mpg</th>\n",
       "      <td>-0.664865</td>\n",
       "      <td>-0.633139</td>\n",
       "      <td>-0.051387</td>\n",
       "      <td>-0.650552</td>\n",
       "      <td>-0.822617</td>\n",
       "      <td>1.000000</td>\n",
       "      <td>-0.689253</td>\n",
       "    </tr>\n",
       "    <tr>\n",
       "      <th>price</th>\n",
       "      <td>0.693965</td>\n",
       "      <td>0.753871</td>\n",
       "      <td>0.134990</td>\n",
       "      <td>0.873887</td>\n",
       "      <td>0.810533</td>\n",
       "      <td>-0.689253</td>\n",
       "      <td>1.000000</td>\n",
       "    </tr>\n",
       "  </tbody>\n",
       "</table>\n",
       "</div>"
      ],
      "text/plain": [
       "               length     width    height  engine-size  horsepower  city-mpg  \\\n",
       "length       1.000000  0.857225  0.494880     0.685260    0.580309 -0.664865   \n",
       "width        0.857225  1.000000  0.309223     0.729466    0.615315 -0.633139   \n",
       "height       0.494880  0.309223  1.000000     0.075569   -0.087407 -0.051387   \n",
       "engine-size  0.685260  0.729466  0.075569     1.000000    0.822713 -0.650552   \n",
       "horsepower   0.580309  0.615315 -0.087407     0.822713    1.000000 -0.822617   \n",
       "city-mpg    -0.664865 -0.633139 -0.051387    -0.650552   -0.822617  1.000000   \n",
       "price        0.693965  0.753871  0.134990     0.873887    0.810533 -0.689253   \n",
       "\n",
       "                price  \n",
       "length       0.693965  \n",
       "width        0.753871  \n",
       "height       0.134990  \n",
       "engine-size  0.873887  \n",
       "horsepower   0.810533  \n",
       "city-mpg    -0.689253  \n",
       "price        1.000000  "
      ]
     },
     "execution_count": 19,
     "metadata": {},
     "output_type": "execute_result"
    }
   ],
   "source": [
    "data.corr()"
   ]
  },
  {
   "cell_type": "code",
   "execution_count": 20,
   "metadata": {},
   "outputs": [
    {
     "name": "stdout",
     "output_type": "stream",
     "text": [
      "                            OLS Regression Results                            \n",
      "==============================================================================\n",
      "Dep. Variable:                  price   R-squared:                       0.820\n",
      "Model:                            OLS   Adj. R-squared:                  0.815\n",
      "Method:                 Least Squares   F-statistic:                     146.2\n",
      "Date:                Thu, 09 Feb 2023   Prob (F-statistic):           8.43e-69\n",
      "Time:                        11:51:30   Log-Likelihood:                -1899.0\n",
      "No. Observations:                 199   AIC:                             3812.\n",
      "Df Residuals:                     192   BIC:                             3835.\n",
      "Df Model:                           6                                         \n",
      "Covariance Type:            nonrobust                                         \n",
      "===============================================================================\n",
      "                  coef    std err          t      P>|t|      [0.025      0.975]\n",
      "-------------------------------------------------------------------------------\n",
      "const        -7.07e+04   1.36e+04     -5.197      0.000   -9.75e+04   -4.39e+04\n",
      "length        -46.3698     50.107     -0.925      0.356    -145.200      52.461\n",
      "width         908.5449    244.437      3.717      0.000     426.419    1390.671\n",
      "height        273.9268    137.282      1.995      0.047       3.153     544.701\n",
      "engine-size    92.5917     12.613      7.341      0.000      67.713     117.470\n",
      "horsepower     62.2932     16.544      3.765      0.000      29.662      94.924\n",
      "city-mpg      -29.8524     77.298     -0.386      0.700    -182.314     122.609\n",
      "==============================================================================\n",
      "Omnibus:                       22.902   Durbin-Watson:                   0.820\n",
      "Prob(Omnibus):                  0.000   Jarque-Bera (JB):               42.916\n",
      "Skew:                           0.582   Prob(JB):                     4.80e-10\n",
      "Kurtosis:                       4.955   Cond. No.                     1.44e+04\n",
      "==============================================================================\n",
      "\n",
      "Notes:\n",
      "[1] Standard Errors assume that the covariance matrix of the errors is correctly specified.\n",
      "[2] The condition number is large, 1.44e+04. This might indicate that there are\n",
      "strong multicollinearity or other numerical problems.\n"
     ]
    }
   ],
   "source": [
    "# This code prints your model summary for reference to help answer the next question\n",
    "\n",
    "numeric_results = numeric_mod.fit()\n",
    "print(numeric_results.summary())"
   ]
  },
  {
   "cell_type": "markdown",
   "metadata": {
    "nbgrader": {
     "grade": false,
     "grade_id": "cell-5f3e1d2cefd52126",
     "locked": true,
     "schema_version": 3,
     "solution": false,
     "task": false
    }
   },
   "source": [
    "### 4.2) Short Answer: Are all of these features statististically significant? If not, which features are not? How did you determine this from the model output?\n",
    "\n",
    "Include the alpha level you are using in your answer."
   ]
  },
  {
   "cell_type": "markdown",
   "metadata": {},
   "source": [
    "# Your answer here\n",
    "\n",
    "Using the adjusted R^2 value, we can say that these features explain 82% of the variability in y. \n",
    "\n",
    "\n",
    "Using the standard alpha of 0.05 to analyze the p-values. width, height, engine-size, and horsepower all have p-values less than 0.05, so we can say that they are statistically significant. \n",
    "\n",
    "\n",
    "city-mpg and length, however, are not statistically significant because they do not meet the 5% threshold and thus do not have a significant impact to price."
   ]
  },
  {
   "cell_type": "markdown",
   "metadata": {
    "nbgrader": {
     "grade": false,
     "grade_id": "cell-f9264f78a47488f9",
     "locked": true,
     "schema_version": 3,
     "solution": false,
     "task": false
    }
   },
   "source": [
    "### 4.3) Short Answer: Let's say we want to add `body-style` to our model. Run the cell below to view the values of `body-style`. Given the output, how many one-hot encoded features should be added?\n",
    "\n",
    "Explain your answer. ***Hint:*** you might want to mention the dummy variable trap and/or the reference category."
   ]
  },
  {
   "cell_type": "code",
   "execution_count": 21,
   "metadata": {
    "nbgrader": {
     "grade": false,
     "grade_id": "cell-b6ced64fabee1fc2",
     "locked": true,
     "schema_version": 3,
     "solution": false,
     "task": false
    }
   },
   "outputs": [
    {
     "data": {
      "text/plain": [
       "convertible     6\n",
       "hardtop         8\n",
       "hatchback      67\n",
       "sedan          94\n",
       "wagon          24\n",
       "Name: body-style, dtype: int64"
      ]
     },
     "execution_count": 21,
     "metadata": {},
     "output_type": "execute_result"
    }
   ],
   "source": [
    "# Run this cell without changes\n",
    "\n",
    "data[\"body-style\"].value_counts().sort_index()"
   ]
  },
  {
   "cell_type": "markdown",
   "metadata": {},
   "source": [
    "# Your answer here\n",
    "\n",
    "5 one-hot encoded features should be added, and the column containing body-style should be dropped, after removing any missing rows\n",
    "\n",
    "We run into the dummy variable trap when there is a high correlation between dummy values. For example, if we know that sedan, hatchback, and wagon are 0, we know that it is either a convertible or hard top.\n",
    "\n",
    "To deal with this, we can drop a reference category, such as sedan, and analyze using the summary table to see changes in impact of the remaining columns to the y-value relative to this reference category."
   ]
  },
  {
   "cell_type": "markdown",
   "metadata": {
    "nbgrader": {
     "grade": false,
     "grade_id": "cell-7bcdb87b7dd93748",
     "locked": true,
     "schema_version": 3,
     "solution": false,
     "task": false
    }
   },
   "source": [
    "### 4.4) Prepare `body-style` for modeling using `pd.get_dummies`. Then create a StatsModels `OLS` model `all_mod` that predicts `price` using all (including one-hot encoded) other features."
   ]
  },
  {
   "cell_type": "code",
   "execution_count": 22,
   "metadata": {
    "nbgrader": {
     "grade": false,
     "grade_id": "cell-41219d932aaa6da5",
     "locked": true,
     "schema_version": 3,
     "solution": false,
     "task": false
    }
   },
   "outputs": [],
   "source": [
    "# CodeGrade step4.4\n",
    "# Replace None with appropriate code\n",
    "\n",
    "y = data['price'].copy()\n",
    "    \n",
    "X_ohe = pd.get_dummies(data.drop(['price'], axis=1))\n",
    "\n",
    "all_mod = sm.OLS(y, sm.add_constant(X_ohe))"
   ]
  },
  {
   "cell_type": "code",
   "execution_count": 23,
   "metadata": {},
   "outputs": [
    {
     "name": "stdout",
     "output_type": "stream",
     "text": [
      "                            OLS Regression Results                            \n",
      "==============================================================================\n",
      "Dep. Variable:                  price   R-squared:                       0.840\n",
      "Model:                            OLS   Adj. R-squared:                  0.832\n",
      "Method:                 Least Squares   F-statistic:                     98.92\n",
      "Date:                Thu, 09 Feb 2023   Prob (F-statistic):           2.34e-69\n",
      "Time:                        11:51:30   Log-Likelihood:                -1887.3\n",
      "No. Observations:                 199   AIC:                             3797.\n",
      "Df Residuals:                     188   BIC:                             3833.\n",
      "Df Model:                          10                                         \n",
      "Covariance Type:            nonrobust                                         \n",
      "==========================================================================================\n",
      "                             coef    std err          t      P>|t|      [0.025      0.975]\n",
      "------------------------------------------------------------------------------------------\n",
      "const                  -6.605e+04   1.11e+04     -5.959      0.000   -8.79e+04   -4.42e+04\n",
      "length                   -48.0812     51.558     -0.933      0.352    -149.789      53.626\n",
      "width                   1027.9245    241.176      4.262      0.000     552.165    1503.684\n",
      "height                   328.4788    142.750      2.301      0.022      46.880     610.077\n",
      "engine-size               78.4995     12.463      6.299      0.000      53.915     103.084\n",
      "horsepower                67.1887     15.839      4.242      0.000      35.944      98.434\n",
      "city-mpg                 -10.5979     75.198     -0.141      0.888    -158.939     137.743\n",
      "body-style_convertible -9147.1721   2320.572     -3.942      0.000   -1.37e+04   -4569.466\n",
      "body-style_hardtop     -1.223e+04   2404.478     -5.088      0.000    -1.7e+04   -7491.256\n",
      "body-style_hatchback   -1.516e+04   2296.571     -6.600      0.000   -1.97e+04   -1.06e+04\n",
      "body-style_sedan       -1.401e+04   2356.389     -5.947      0.000   -1.87e+04   -9365.761\n",
      "body-style_wagon       -1.549e+04   2483.995     -6.238      0.000   -2.04e+04   -1.06e+04\n",
      "==============================================================================\n",
      "Omnibus:                       21.919   Durbin-Watson:                   0.811\n",
      "Prob(Omnibus):                  0.000   Jarque-Bera (JB):               45.145\n",
      "Skew:                           0.521   Prob(JB):                     1.57e-10\n",
      "Kurtosis:                       5.088   Cond. No.                     2.10e+18\n",
      "==============================================================================\n",
      "\n",
      "Notes:\n",
      "[1] Standard Errors assume that the covariance matrix of the errors is correctly specified.\n",
      "[2] The smallest eigenvalue is 3.01e-30. This might indicate that there are\n",
      "strong multicollinearity problems or that the design matrix is singular.\n"
     ]
    }
   ],
   "source": [
    "# This test confirms that you have created a variable named all_mod containing a StatsModels OLS model\n",
    "\n",
    "assert type(all_mod) == sm.OLS\n",
    "\n",
    "# This code prints your model summary for reference to help answer the next question\n",
    "\n",
    "all_results = all_mod.fit()\n",
    "print(all_results.summary())"
   ]
  },
  {
   "cell_type": "markdown",
   "metadata": {
    "nbgrader": {
     "grade": false,
     "grade_id": "cell-11c269bfe15e7f49",
     "locked": true,
     "schema_version": 3,
     "solution": false,
     "task": false
    }
   },
   "source": [
    "### 4.5) Short Answer: Does this model do a better job of explaining automobile price than the previous model using only numeric features? Explain how you determined this based on the model output. "
   ]
  },
  {
   "cell_type": "markdown",
   "metadata": {},
   "source": [
    "# Your answer here\n",
    "\n",
    "The adjusted R^2 value here is slightly higher than that of the previous model, so it does explain a higher percentage of the variance in y, even after penalising the increased number of data points."
   ]
  },
  {
   "cell_type": "code",
   "execution_count": null,
   "metadata": {},
   "outputs": [],
   "source": []
  }
 ],
 "metadata": {
  "celltoolbar": "Create Assignment",
  "kernelspec": {
   "display_name": "Python (learn-env)",
   "language": "python",
   "name": "learn-env"
  },
  "language_info": {
   "codemirror_mode": {
    "name": "ipython",
    "version": 3
   },
   "file_extension": ".py",
   "mimetype": "text/x-python",
   "name": "python",
   "nbconvert_exporter": "python",
   "pygments_lexer": "ipython3",
   "version": "3.8.5"
  },
  "toc": {
   "base_numbering": 1,
   "nav_menu": {},
   "number_sections": true,
   "sideBar": true,
   "skip_h1_title": false,
   "title_cell": "Table of Contents",
   "title_sidebar": "Contents",
   "toc_cell": false,
   "toc_position": {},
   "toc_section_display": true,
   "toc_window_display": false
  }
 },
 "nbformat": 4,
 "nbformat_minor": 4
}
